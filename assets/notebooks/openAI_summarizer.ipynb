{
 "cells": [
  {
   "cell_type": "markdown",
   "id": "0ae47a6d-ef95-40b1-bec2-a05671ae5c87",
   "metadata": {},
   "source": [
    "# Automating the transcription and summarization of recorded speech using OpenAI's Whisper and chatGPT "
   ]
  },
  {
   "cell_type": "markdown",
   "id": "9a70c823-c197-4c18-9ace-18a1c8c54de4",
   "metadata": {},
   "source": [
    "### Requirements (using a Python 3.8 conda environment)"
   ]
  },
  {
   "cell_type": "code",
   "execution_count": null,
   "id": "49448040-0e5e-47b3-8924-71913458bd7d",
   "metadata": {},
   "outputs": [],
   "source": [
    "!pip install git+https://github.com/openai/whisper.git -q\n",
    "!pip install spacy\n",
    "!pip install pyaudio\n",
    "#!pip install tiktoken\n",
    "!pip install nltk\n",
    "!python -m spacy download en_core_web_sm"
   ]
  },
  {
   "cell_type": "code",
   "execution_count": 1,
   "id": "26da6904-7d3f-4a91-94ee-f20013bf5a19",
   "metadata": {},
   "outputs": [],
   "source": [
    "import os\n",
    "os.environ['KMP_DUPLICATE_LIB_OK']='True'\n",
    "import openai\n",
    "import pyaudio\n",
    "import whisper\n",
    "import time\n",
    "import wave # should come with Python s\n",
    "# Apply the API key\n",
    "openai.api_key = \"sk-xxxxxxxx....??????\""
   ]
  },
  {
   "cell_type": "markdown",
   "id": "eec6eb7d-1eab-41da-b78d-9bea22f8a03c",
   "metadata": {
    "jp-MarkdownHeadingCollapsed": true,
    "tags": []
   },
   "source": [
    "### Transcription of an online recording\n",
    "\n",
    "The code here shown extends from the example shown in [betterprogramming](https://betterprogramming.pub/building-a-thought-summarization-app-with-whisper-and-gpt-3-90c2d8653faa)."
   ]
  },
  {
   "cell_type": "code",
   "execution_count": 4,
   "id": "ddd3f6ad-34a3-4dc0-8d8f-01c21a981004",
   "metadata": {
    "tags": []
   },
   "outputs": [
    {
     "name": "stdout",
     "output_type": "stream",
     "text": [
      "Start recording\n",
      "Recording stopped\n",
      " Thank you.\n"
     ]
    }
   ],
   "source": [
    "#KMP_DUPLICATE_LIB_OK=TRUE()\n",
    "CHANNELS = 1\n",
    "FORMAT = pyaudio.paInt32\n",
    "RATE = 44100\n",
    "CHUNK = 1024\n",
    "# Record for 20 seconds\n",
    "time_recording = 20\n",
    "\n",
    "p = pyaudio.PyAudio()\n",
    "\n",
    "stream = p.open(format=FORMAT,channels=CHANNELS,rate=RATE,input=True,frames_per_buffer=CHUNK)\n",
    "print(\"Start recording\")\n",
    "frames = []\n",
    "\n",
    "seconds = 10\n",
    "for i in range(0, int(RATE / CHUNK * seconds)):\n",
    "    data = stream.read(CHUNK)\n",
    "    frames.append(data)\n",
    "    \n",
    "\n",
    "print(\"Recording stopped\")\n",
    "stream.stop_stream()\n",
    "stream.close()\n",
    "p.terminate()\n",
    "\n",
    "wf = wave.open(\"output.wav\", \"wb\")\n",
    "wf.setnchannels(CHANNELS)\n",
    "wf.setsampwidth(p.get_sample_size(FORMAT))\n",
    "wf.setframerate(RATE)\n",
    "wf.writeframes(b''.join(frames))\n",
    "wf.close()\n",
    "\n",
    "\n",
    "write_text_file = True\n",
    "audio_file_path = \"./output.wav\"\n",
    "\n",
    "# Load the whisper model\n",
    "model = whisper.load_model(\"base.en\")\n",
    "#result = model.transcribe(audio_file_path)\n",
    "result = model.transcribe(audio_file_path, fp16=False, language='English')\n",
    "if write_text_file==True:    \n",
    "    with open(\"rec_wav.txt\", \"w+\") as f:\n",
    "        f.write(result[\"text\"])\n",
    "\n",
    "print(result[\"text\"])"
   ]
  },
  {
   "cell_type": "markdown",
   "id": "7395fb8c-975d-4eff-a6a8-652f592281a3",
   "metadata": {
    "tags": []
   },
   "source": [
    "### Transcription of an offline recording"
   ]
  },
  {
   "cell_type": "code",
   "execution_count": null,
   "id": "d621fa77-f032-4ba9-9ba5-484caefbf60b",
   "metadata": {},
   "outputs": [],
   "source": [
    "write_text_file = True\n",
    "\n",
    "audio_file_path = \"./Albert Camus Straße 38.m4a\"\n",
    "\n",
    "# Load the whisper model\n",
    "model = whisper.load_model(\"base.en\")\n",
    "#result = model.transcribe(audio_file_path)\n",
    "result = model.transcribe(audio_file_path, fp16=False, language='English')\n",
    "if write_text_file==True:    \n",
    "    with open(\"rec_m4a.txt\", \"w+\") as f:\n",
    "        f.write(result[\"text\"])\n",
    "\n",
    "print(result[\"text\"])"
   ]
  },
  {
   "cell_type": "markdown",
   "id": "45dc1754-827a-4b46-9d2e-9fc23df778de",
   "metadata": {},
   "source": [
    "### Summarization"
   ]
  },
  {
   "cell_type": "code",
   "execution_count": null,
   "id": "ff33ec0c-9b8c-4b79-a1a7-2a3d35cfc290",
   "metadata": {},
   "outputs": [],
   "source": [
    "import openai\n",
    "\n",
    "with open(\"rec_wav.txt\") as f:\n",
    "    contents = f.readlines()\n",
    "print(contents[0])\n",
    "\n",
    "# Define the prompt for GPT-3\n",
    "text = contents #result[\"text\"]\n",
    "prompt = (f\"summarize this text using bulletpoints: {text}\")\n",
    "\n",
    "# Get a response from GPT-3\n",
    "response = openai.Completion.create(\n",
    "    engine=\"text-davinci-003\",\n",
    "    prompt=prompt,\n",
    "    max_tokens=1024,\n",
    "    n =1,\n",
    "    stop=None,\n",
    "    temperature=0.5\n",
    ")\n",
    "\n",
    "# Get the summary from the response\n",
    "summary = response.choices[0].text\n",
    "\n",
    "# Print the summary\n",
    "print(summary)"
   ]
  },
  {
   "cell_type": "markdown",
   "id": "7078ab1d-d004-4879-aef3-b025863d7e7d",
   "metadata": {},
   "source": [
    "### Summarization by chunks"
   ]
  },
  {
   "cell_type": "code",
   "execution_count": 21,
   "id": "64a10849-3cd3-4648-ba9a-15664a117ff1",
   "metadata": {},
   "outputs": [
    {
     "name": "stdout",
     "output_type": "stream",
     "text": [
      "Summary of chunk: 1\n",
      "Summary of chunk: 2\n",
      "Summary of chunk: 3\n",
      "Summary of chunk: 4\n",
      "Summary of chunk: 5\n",
      "Summary of chunk: 6\n",
      "Appended summaries :  \n",
      "\n",
      "The Chilean Civil War of 1891 was a conflict between the Chilean Army and Navy, with the latter siding with Congress and the former supporting President José Manuel Balmaceda. The war ended with the defeat of the president's forces and Balmaceda committing suicide, marking the end of the Liberal Republic and the beginning of the Parliamentary Era. It began as a disagreement between Balmaceda and Congress over the power to appoint ministers, and escalated when Balmaceda attempted to nominate a close friend as his successor. Congress refused to approve a budget and Balmaceda declared an official budget for 1891, which was interpreted by the opposition as illegal. \n",
      "\n",
      "In August 1891, Vice-President Waldo Silva and President of the Chamber of Deputies Ramón Barros Luco issued a proclamation appointing Captain Jorge Montt commander of the navy in protest against President José Manuel Balmaceda's actions. This was supported by the majority of members of Congress, who signed an Act of Deposition of President Balmaceda. To counter this movement, Balmaceda organized an army of 40,000 men and declared Montt and his companions traitors. Balmaceda also attempted to create a navy with few vessels, while the Congress sought to recruit an army by taking its sympathizers on board the fleet. In June 1891, Balmaceda ordered presidential elections and Claudio Vicuña was declared president for the term commencing in September 1891. The resources of Balmaceda were running short due to heavy military expenses, so he disposed of the reserve of silver bullion in the Casa de Moneda. This led to a conflict between the two sides as Balmaceda attempted to secure the most powerful vessel of the navy, the battleship Capitán Prat, while the Congress aimed to gain naval supremacy. \n",
      "\n",
      "The revolutionary forces had difficulty obtaining arms and ammunition, but managed to buy a supply in the United States. The Itata, a Chilean vessel, was sent to transport the weapons, but was forced to return to San Diego without landing its cargo for the insurgents. On 16 January, the Blanco fired the first shot at the Valparaiso batteries, and landing parties from the warships fought small government troops in various places during January and February. The Congressional forces were eventually successful, taking Pisagua on 26th January and Iquique on 16 February. The battle of Pozo Almonte on 7 March was decisive, with Robles killed and his army dispersed. By April, the revolutionary squadron had been sent southward for reconnoitering purposes, ending the struggle in the north. \n",
      "\n",
      "On April 23, the Balmaceda faction's Almirante Lynch torpedo gunboat fired a torpedo at the rebel ship Blanco Encalada, sinking it and killing 300 of its crew. This weakened the Congressional squadron, allowing the Revolutionary Junta to gain control of the area from the Peruvian border to Coquimbo and La Serena. In preparation for their next campaign, the Junta arranged for arms and ammunition to be shipped from Europe and formed an army of 10,000 people with Del Canto as commander-in-chief and Emil Körner as chief of staff. The army was organized into three brigades and trained by Körner in tactics and maps. Balmaceda prepared his forces in anticipation of the attack, which ultimately fell on Valparaiso and Santiago. \n",
      "\n",
      "In August 1891, rebel forces of around 9,000 men sailed to Quintero and marched to Concón to fight the Balmacedists. After a fierce battle, the rebels won with heavy losses on both sides. The President then ordered the arrest of anyone suspected of sympathy for the revolution, which further increased the population's antagonism towards him. Following this victory, the insurgent army pressed on towards Valparaiso. On August 28, they fought the decisive battle of La Placilla and ultimately defeated the President's forces. \n",
      "\n",
      "The Chilean Civil War of 1891 resulted in a victory for the Congressional troops, with over 10,000 people killed and £10,000,000 spent on military preparations. This led to a period of pseudo-parliamentary government where the executive was subject to the legislature, but with weakened checks and balances. President Balmaceda committed suicide when the rebel army approached Santiago, ending the conflict.\n"
     ]
    }
   ],
   "source": [
    "import openai\n",
    "import spacy\n",
    "from spacy.lang.en import English\n",
    "nlp = spacy.load(\"en_core_web_sm\")\n",
    "\n",
    "fname = \"rec_m4a.txt\"  # I replaced the recorded speech for a text lumped from the Wiki on the Chilean civil war of 1981 8-)\n",
    "#fname = \"idea_2.txt\"\n",
    "\n",
    "def text_to_chunks(text):\n",
    "    chunks = [[]]\n",
    "    chunk_total_words = 0\n",
    "\n",
    "    sentences = nlp(text)\n",
    "\n",
    "    for sentence in sentences.sents:\n",
    "        chunk_total_words += len(sentence.text.split(\" \"))\n",
    "\n",
    "        if chunk_total_words > 500:\n",
    "            chunks.append([])\n",
    "            chunk_total_words = len(sentence.text.split(\" \"))\n",
    "\n",
    "        chunks[len(chunks)-1].append(sentence.text)\n",
    "\n",
    "    return chunks\n",
    "\n",
    "def summarize_text(text):\n",
    "    #prompt = f\"Summarize the following text in 3 sentences:\\n{text}\"\n",
    "    prompt = (f\"summarize this text: {text}\")\n",
    "\n",
    "    response = openai.Completion.create(\n",
    "      engine=\"text-davinci-003\", \n",
    "      prompt=prompt,\n",
    "      temperature=0.5, \n",
    "      max_tokens=1049, \n",
    "      top_p=1, \n",
    "      frequency_penalty=0,\n",
    "      presence_penalty=1\n",
    "    )\n",
    "\n",
    "    return response[\"choices\"][0][\"text\"]\n",
    "\n",
    "\n",
    "with open(fname) as f:\n",
    "    contents = f.readlines()\n",
    "#print(contents[0])\n",
    "\n",
    "text = contents[0] #result[\"text\"]\n",
    "\n",
    "chunks = text_to_chunks(text)\n",
    "\n",
    "chunk_summaries = []\n",
    "\n",
    "for idx, chunk in enumerate(chunks):\n",
    "    chunk_summary = summarize_text(\" \".join(chunk))\n",
    "    print(\"Summary of chunk:\", idx+1)\n",
    "    chunk_summaries.append(chunk_summary)\n",
    "\n",
    "summary = \" \".join(chunk_summaries)\n",
    "\n",
    "# Print the summary\n",
    "print(\"Appended summaries : \", summary)\n"
   ]
  },
  {
   "cell_type": "code",
   "execution_count": null,
   "id": "988edace-b466-4b0b-bdfc-ac7b2598a9e6",
   "metadata": {},
   "outputs": [],
   "source": []
  }
 ],
 "metadata": {
  "kernelspec": {
   "display_name": "Python 3 (ipykernel)",
   "language": "python",
   "name": "python3"
  },
  "language_info": {
   "codemirror_mode": {
    "name": "ipython",
    "version": 3
   },
   "file_extension": ".py",
   "mimetype": "text/x-python",
   "name": "python",
   "nbconvert_exporter": "python",
   "pygments_lexer": "ipython3",
   "version": "3.8.13"
  }
 },
 "nbformat": 4,
 "nbformat_minor": 5
}
