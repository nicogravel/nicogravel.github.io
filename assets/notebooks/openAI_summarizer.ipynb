{
 "cells": [
  {
   "attachments": {},
   "cell_type": "markdown",
   "id": "0ae47a6d-ef95-40b1-bec2-a05671ae5c87",
   "metadata": {},
   "source": [
    "# Transcription and Summarization of Recorded Speech using Whisper and chatGPT "
   ]
  },
  {
   "attachments": {},
   "cell_type": "markdown",
   "id": "9a70c823-c197-4c18-9ace-18a1c8c54de4",
   "metadata": {},
   "source": [
    "### Requirements (using a Python 3.8 conda environment)"
   ]
  },
  {
   "cell_type": "code",
   "execution_count": null,
   "id": "49448040-0e5e-47b3-8924-71913458bd7d",
   "metadata": {},
   "outputs": [],
   "source": [
    "!pip install git+https://github.com/openai/whisper.git -q\n",
    "!pip install spacy\n",
    "!pip install pyaudio\n",
    "#!pip install tiktoken\n",
    "!pip install nltk\n",
    "!python -m spacy download en_core_web_sm"
   ]
  },
  {
   "cell_type": "code",
   "execution_count": 1,
   "id": "26da6904-7d3f-4a91-94ee-f20013bf5a19",
   "metadata": {},
   "outputs": [],
   "source": [
    "import os\n",
    "os.environ['KMP_DUPLICATE_LIB_OK']='True'\n",
    "import openai\n",
    "import pyaudio\n",
    "import whisper\n",
    "import time\n",
    "import wave # should come with Python\n",
    "\n",
    "# Apply the API key\n",
    "openai.api_key = \"sk-xxxxxxxxxxxxxxxxxxxxxxxxxxxxxxxxxxxxx?\""
   ]
  },
  {
   "attachments": {},
   "cell_type": "markdown",
   "id": "eec6eb7d-1eab-41da-b78d-9bea22f8a03c",
   "metadata": {
    "jp-MarkdownHeadingCollapsed": true,
    "tags": []
   },
   "source": [
    "### Transcription of an online recording\n",
    "\n",
    "The code here shown extends from the example shown in [betterprogramming](https://betterprogramming.pub/building-a-thought-summarization-app-with-whisper-and-gpt-3-90c2d8653faa)."
   ]
  },
  {
   "cell_type": "code",
   "execution_count": 4,
   "id": "ddd3f6ad-34a3-4dc0-8d8f-01c21a981004",
   "metadata": {
    "tags": []
   },
   "outputs": [
    {
     "name": "stdout",
     "output_type": "stream",
     "text": [
      "Start recording\n",
      "Recording stopped\n",
      " Thank you.\n"
     ]
    }
   ],
   "source": [
    "#KMP_DUPLICATE_LIB_OK=TRUE()\n",
    "CHANNELS = 1\n",
    "FORMAT = pyaudio.paInt32\n",
    "RATE = 44100\n",
    "CHUNK = 1024\n",
    "# Record for 20 seconds\n",
    "time_recording = 20\n",
    "\n",
    "p = pyaudio.PyAudio()\n",
    "\n",
    "stream = p.open(format=FORMAT,channels=CHANNELS,rate=RATE,input=True,frames_per_buffer=CHUNK)\n",
    "print(\"Start recording\")\n",
    "frames = []\n",
    "\n",
    "seconds = 10\n",
    "for i in range(0, int(RATE / CHUNK * seconds)):\n",
    "    data = stream.read(CHUNK)\n",
    "    frames.append(data)\n",
    "    \n",
    "\n",
    "print(\"Recording stopped\")\n",
    "stream.stop_stream()\n",
    "stream.close()\n",
    "p.terminate()\n",
    "\n",
    "wf = wave.open(\"output.wav\", \"wb\")\n",
    "wf.setnchannels(CHANNELS)\n",
    "wf.setsampwidth(p.get_sample_size(FORMAT))\n",
    "wf.setframerate(RATE)\n",
    "wf.writeframes(b''.join(frames))\n",
    "wf.close()\n",
    "\n",
    "\n",
    "write_text_file = True\n",
    "audio_file_path = \"./output.wav\"\n",
    "\n",
    "# Load the whisper model\n",
    "model = whisper.load_model(\"base.en\")\n",
    "#result = model.transcribe(audio_file_path)\n",
    "result = model.transcribe(audio_file_path, fp16=False, language='English')\n",
    "if write_text_file==True:    \n",
    "    with open(\"rec_wav.txt\", \"w+\") as f:\n",
    "        f.write(result[\"text\"])\n",
    "\n",
    "print(result[\"text\"])"
   ]
  },
  {
   "attachments": {},
   "cell_type": "markdown",
   "id": "7395fb8c-975d-4eff-a6a8-652f592281a3",
   "metadata": {
    "tags": []
   },
   "source": [
    "### Transcription of an offline recording"
   ]
  },
  {
   "cell_type": "code",
   "execution_count": null,
   "id": "d621fa77-f032-4ba9-9ba5-484caefbf60b",
   "metadata": {},
   "outputs": [],
   "source": [
    "write_text_file = True\n",
    "\n",
    "audio_file_path = \"./Albert Camus Straße 38.m4a\"\n",
    "\n",
    "# Load the whisper model\n",
    "model = whisper.load_model(\"base.en\")\n",
    "#result = model.transcribe(audio_file_path)\n",
    "result = model.transcribe(audio_file_path, fp16=False, language='English')\n",
    "if write_text_file==True:    \n",
    "    with open(\"rec_m4a.txt\", \"w+\") as f:\n",
    "        f.write(result[\"text\"])\n",
    "\n",
    "print(result[\"text\"])"
   ]
  },
  {
   "attachments": {},
   "cell_type": "markdown",
   "id": "45dc1754-827a-4b46-9d2e-9fc23df778de",
   "metadata": {},
   "source": [
    "### Summarization"
   ]
  },
  {
   "cell_type": "code",
   "execution_count": null,
   "id": "ff33ec0c-9b8c-4b79-a1a7-2a3d35cfc290",
   "metadata": {},
   "outputs": [],
   "source": [
    "import openai\n",
    "\n",
    "with open(\"rec_wav.txt\") as f:\n",
    "    contents = f.readlines()\n",
    "print(contents[0])\n",
    "\n",
    "# Define the prompt for GPT-3\n",
    "text = contents #result[\"text\"]\n",
    "prompt = (f\"summarize this text using bulletpoints: {text}\")\n",
    "\n",
    "# Get a response from GPT-3\n",
    "response = openai.Completion.create(\n",
    "    engine=\"text-davinci-003\",\n",
    "    prompt=prompt,\n",
    "    max_tokens=1024,\n",
    "    n =1,\n",
    "    stop=None,\n",
    "    temperature=0.5\n",
    ")\n",
    "\n",
    "# Get the summary from the response\n",
    "summary = response.choices[0].text\n",
    "\n",
    "# Print the summary\n",
    "print(summary)"
   ]
  },
  {
   "attachments": {},
   "cell_type": "markdown",
   "id": "7078ab1d-d004-4879-aef3-b025863d7e7d",
   "metadata": {},
   "source": [
    "### Summarization by chunks"
   ]
  },
  {
   "cell_type": "code",
   "execution_count": null,
   "id": "64a10849-3cd3-4648-ba9a-15664a117ff1",
   "metadata": {},
   "outputs": [
    {
     "name": "stdout",
     "output_type": "stream",
     "text": [
      "The Chilean Civil War of 1891 (also known as Revolution of 1891) was a civil war in Chile fought between forces supporting Congress and forces supporting the President, José Manuel Balmaceda from 16 January 1891 to 18 September 1891. The war saw a confrontation between the Chilean Army and the Chilean Navy, siding with the president and the congress, respectively. This conflict ended with the defeat of the Chilean Army and the presidential forces, and with President Balmaceda committing suicide as a consequence of the defeat.[2] In Chilean historiography the war marks the end of the Liberal Republic and the beginning of the Parliamentary Era.The Chilean Civil War grew out of political disagreements between the president of Chile, José Manuel Balmaceda, and the Chilean congress. In 1889, the congress became distinctly hostile to the administration of Balmaceda, and the political situation became serious, at times threatening to involve the country in civil war. According to usage and custom in Chile at the time, a minister could not remain in office unless supported by a majority in both houses of the congress. Balmaceda found himself in the difficult position of being unable to appoint any ministers that could control a majority in the senate and chamber of deputies, and at the same time act in accordance with his own views of the administration of public affairs. At this juncture, the president assumed that the constitution gave him the power of nominating and maintaining in office any ministers of his choice and that congress had no power to interfere.The Congress was now only waiting for a suitable opportunity to assert its authority. In 1890, it came to light that President Balmaceda had decided to nominate a close personal friend as his successor. This brought matters to confrontation and the congress refused to approve a budget for supplies to run the government. Balmaceda compromised with congress, agreeing to nominate a cabinet to their liking on condition that the budget would be approved. This cabinet, however, resigned when the ministers understood the full scope of the conflict between the president and congress. Balmaceda then nominated a cabinet not in accord with the views of Congress under Claudio Vicuña, whom it was no secret Balmaceda intended to be his successor. To avoid opposition to his actions, Balmaceda refrained from summoning an extraordinary session of the legislature for the discussion of the estimates of revenue and expenditure for 1891.On January 1, 1891, president Balmaceda published a Manifest to the Nation in various newspapers to the effect that the budget of 1890 would be considered the official budget for 1891. This act was interpreted by the opposition as illegal and beyond the attributes of the executive power. As protest against the action of President Balmaceda, the vice-president of the senate, Waldo Silva, and the president of the chamber of deputies, Ramón Barros Luco, issued a proclamation appointing Captain Jorge Montt commander of the navy, and stating that the navy could not recognize the authority of Balmaceda so long as he did not administer public affairs in accordance with the Battle of Concón, Chile. August 21, 1891. President José Manuel Balmaceda constitutional law of Chile. The majority of the members of congress sided with this movement, and signed an Act of Deposition of President Balmaceda.On January 6, 1891, the political leaders of the Congressional party embarked on board the armored frigate Blanco Encalada, at Valparaíso, and Captain Jorge Montt of that vessel hoisted a broad pennant as commodore of the Congressional fleet. On 7 January the Blanco Encalada, accompanied by the Esmeralda and O'Higgins and other vessels, sailed out of Valparaiso harbour and proceeded northwards to Tarapacá to organize armed resistance against the president. For the present, and without prejudice to the future, command of the sea was held by Montt's squadron (January). The rank and file of the army remained faithful to the executive, and thus in the early part of the war the Gobiernistas, speaking broadly, possessed an army without a fleet, the congress a fleet without an army. Balmaceda hoped to create a navy; the congress took steps to recruit an army by taking its sympathizers on board the fleet. Immediately on the outbreak of the revolution President Balmaceda published a decree declaring Montt and his companions to be traitors, and without delay organized an army of some 40,000 men for the suppression of the insurrectionary movement. While both sides were preparing for hostilities, Balmaceda administered the government under dictatorial powers with a congress of his own nomination. In June 1891 he ordered the presidential election to be held, and Claudio Vicuña was duly declared chosen as president of the republic for the term commencing in September 1891. Preparations had long been made for the naval insurrection,and in the end few vessels of the Chilean navy adhered to thecause of Balmaceda. But amongst these were two new and fasttorpedo gunboats, Almirante Condell and Almirante Lynch, and in European dockyards (incomplete) lay the most powerful vessel of the navy, the battleship Capitán Prat, and two fast cruisers. If these were secured by the Balmacedists the naval supremacy of the congress would be seriously challenged. The resources of Balmaceda were running short on account of the heavy military expenses, and he determined to dispose of the reserve of silver bullion accumulated in the vaults of the Casa de Moneda in accordance with the terms of the law for the conversion of the note issue. The silver was conveyed abroad in a British man-of-war, and disposed of partly for the purchase of a fast steamer to be fitted as an auxiliary cruiser and partly in payment for other kinds of war material. The organization of the revolutionary forces went on slowly. They were experiencing difficulty in obtaining the necessary arms and ammunition. A supply of rifles was bought in the United States, and embarked on board the Itata, a Chilean vessel in the service of the rebels. The United States authorities refused to allow this steamer to leave San Diego, and a guard was stationed on the ship. The Itata, however, slipped away and made for the Chilean coast, carrying with her the representatives of the United States. A fast cruiser was immediately sent in pursuit, but only succeeded in overhauling the rebel ship after she was at her destination. The Itata was then forced to return to San Diego without landing her cargo for the insurgents. The first shot was fired, on 16 January, by the Blanco at the Valparaiso batteries, and landing parties from the warships engaged small parties of government troops at various places during January and February. Balmaceda's principal forces were stationed in and about Iquique, Coquimbo, Valparaíso, Santiago and Concepción. The troops at Iquique and Coquimbo were necessarily isolated from the rest and from each other, and military operations began, as in the campaign of 1879 in this quarter, with a naval descent upon Pisagua followed by an advance inland to Dolores.The Congressional forces failed at first to make good their footing (16–23 January), but, though defeated in two or three actions, they brought off many recruits and a quantity of munitions of war. On the 26th they retook Pisagua, and on the 15 February the Balmacedist commander, Eulogio Robles, who offered battle in the expectation of receiving reinforcements from Tacna, was completely defeated on the old battlefield of San Francisco. Robles fell back along the railway, called up troops from Iquique, and beat the invaders at Huara on 17 February, but Iquique in the meanwhile fell to the Congressional fleet on 16 February. The Pisagua line of operations was at once abandoned, and the military forces of the congress were moved by sea to Iquique, whence, under the command of Colonel Estanislao del Canto, they started inland. The battle of Pozo Almonte, fought on the 7th of March, was desperately contested, but Del Canto was superior in numbers, and Robles was himself killed and his army dispersed. After this the other Balmacedist troops in the north gave up the struggle. Some were driven into Peru, others into Bolivia, and one column made a laborious retreat from Calama to Santiago, in the course of which it twice crossed the main chain of the Andes. Early in April a portion of the revolutionary squadron, comprising the armoured frigate Blanco Encalada and other ships, was sent southward for reconnoitring purposes and put into the port of Caldera. During the night of April 23, and whilst the Blanco Encalada was lying quietly at anchor in Caldera Bay, the Almirante Lynch torpedo gunboat, belonging to the Balmaceda faction, steamed into the bay of Caldera and discharged a torpedo at the rebel ship. The Blanco Encalada sank in a few minutes and 300 of her crew perished. This coup severely weakened the Congressional squadron.The Revolutionary Junta, created on April 13, now firmly established in Iquique prosecuted the war vigorously, and by the end of April the whole area was in the hands of the \"rebels\" from the Peruvian border to the outposts of the Balmacedists at Coquimbo and La Serena. The Junta now began the formation of a properly organized army for the next campaign, which, it was believed universally on both sides, would be directed against Coquimbo. The necessary arms and ammunition were arranged for in Europe; they were shipped in a British vessel, and transferred to a Chilean steamer at Fortune Bay, in Tierra del Fuego, close to the Straits of Magellan and the Falkland Islands, and thence carried to Iquique, where they were safely disembarked early in July 1891. A force of 10,000 men was now raised by the junta, and preparations were rapidly pushed forward for a move to the south with the object of attacking Valparaiso and Santiago, because in a few months the arrival of the new ships from Europe would reopen the struggle for command of the sea so the Congressional party could no longer aim at a methodical conquest of successive provinces, but was compelled to attempt to crush the Presidentialist forces at a blow. Where this blow was to fall was notdecided up to the last moment, butthe instrument which was to deliver it was prepared with all the care possible under the circumstances. Del Canto was made commander-in- chief, and an ex-Prussian officer, Emil Körner, chief of staff. The army was organized in three brigades of all arms, at Iquique, Caldera and Vallenar. Körner superintended the training of the men, gave instruction in tactics to the officers, caused maps to be prepared, and in general took every precaution that his experience could suggest to ensure success. Del Canto was himself no mere figurehead, but a thoroughly capable leader who had distinguished himself at Tacna (1880) and Miraflores (1881), as well as in the present war. The men were enthusiastic, and the officers unusually numerous. The artillery was fair, the cavalry good, and the train and auxiliary services well organized. About one-third of the infantry were armed with the Austrian Mannlicher magazine rifle, whichnow made its first appearance in war, the remainder had the French Gras and other breech- loaders, which were also the armament of the dictator's infantry. Balmaceda could only wait upon events, but he prepared his forces as best he was able, and his torpedo gunboats constantly harried the Congressional navy. By the end of July Del Canto and Körner had done their work as well as time permitted, and early in August the troops prepared to embark, not for Coquimbo, but for Valparaiso itself. In the middle of August 1891 the rebel forces were embarked at Iquique, numbering in all about 9,000 men, and sailed for the south. The expedition by sea was admirably managed, and on the 10th of August the Congressional army was disembarked at Quintero, about 20 km. north of Valparaiso and not many miles out of range of its batteries, and marched to Concón, where the Balmacedists were entrenched.Balmaceda was surprised, but acted promptly. The first battle was fought on the Aconcagua river at Concón on the 21st. The eager infantry of the Congressional army forced the passage of the river and stormed the heights held by the Gobiernistas. A severe fight ensued, in which the troops of President Balmaceda were defeated with heavy loss. The killed and wounded of the Balmacedists numbered 1,600, and nearly all the prisoners, about 1,500 men, enrolled themselves in the rebel army, which thus more than made good its loss of 1,000 killed and wounded. This reverse roused the worst passions of the president, and he ordered the arrest and imprisonment of all persons suspected of sympathy with the revolutionary cause. The population generally were, however, distinctly antagonistic to Balmaceda; and this feeling had become accentuated since August 17, on which date he had ordered the execution of a number of youths belonging to the military college at Lo Cañas on a charge of seditious practices. The shooting of these boys created a feeling of horror throughout the country, and a sensation of uncertainty as to what measures of severity might not be practised in the future if Balmaceda won the day. After the victory at Concón the insurgent army, under command of General Campos, pressed on towards Valparaiso, but were soon brought up by the strong fortified position of the Balmacedist general Orozimbo Barbosa at Viña del Mar, whither Balmaceda hurried up all available troops from Valparaiso and Santiago, and even from Concepcion. Del Canto and Körner now resolved on a daring step. Supplies of all kinds were brought up from Quintero to the front, and on the 24th of August the army abandoned its line of communications and marched inland. The flank march was conducted with great skill, little opposition was encountered, and the rebels finally appeared to the southeast of Valparaiso. There, on August 28, the final struggle in the conflict took place: the decisive battle of La Placilla. Concon had been perhaps little more than the destruction of an isolated corps; the second battle was a fair trial of strength, for Balmaceda's generals Barbosa and Alcerreca were well prepared, had massed their troops in a strong position and had under their command the greater part of the existing forces of the president. But the splendid fighting qualities of the Congressional troops and the superior generalship of their leaders prevailed in the end over every obstacle and resulted in victory for the rebels. The government army was practically annihilated, 941 men were killed, including Barbosa and his second in command, and 2,402 wounded. The Congressional army lost over 1,800 men. Valparaiso was occupied the same evening and three days later the victorious insurgents entered Santiago and assumed the government of the republic soon afterwards. There was no further fighting, for so great was the effect of the battles of Concon and La Placilla that even the Coquimbo troops surrendered without firing a shot. After the battle of Placilla it was clear to President Balmaceda that he could no longer hope to find sufficient strength amongst his adherents to maintain himself in power, and in view of the rapid approach of the rebel army he abandoned his official duties to seek asylum in the Argentine legation. On August 29, he officially handed power to General Manuel Baquedano, who maintained order in Santiago until the arrival of the congressional leaders on the 30th. The president remained concealed in the Argentine legation until September 18. On the morning of that date, when the term for which he had been elected president of the republic terminated, he committed suicide by shooting himself. The excuse for this act, put forward in letters written shortly before his end, was that he did not believe the conquerors would give him an impartial trial. The death of Balmaceda finished all cause of contention in Chile, and was the closing act of the most severe and bloodiest struggle that the country had ever witnessed. In the various engagements throughout the conflict more than 10,000 people died, and the joint expenditure of the two governments on military preparations and the purchase of war material exceeded £10,000,000. The defeat of the presidential forces opened a so-called \"pseudo-parliamentary\" period in Chile's history, which lasted from 1891 to 1925.As opposed to a \"true parliamentary\" system, the executive was subject to the legislature but checks and balances of executive power were weakened. The position of President remained as head of state but its powers and control of the government were reduced.\n",
      "Summary of chunk: 1\n",
      "Summary of chunk: 2\n",
      "Summary of chunk: 3\n",
      "Summary of chunk: 4\n",
      "Summary of chunk: 5\n"
     ]
    }
   ],
   "source": [
    "import openai\n",
    "import spacy\n",
    "from spacy.lang.en import English\n",
    "nlp = spacy.load(\"en_core_web_sm\")\n",
    "\n",
    "fname = \"rec_m4a.txt\"\n",
    "#fname = \"idea_2.txt\"\n",
    "\n",
    "def text_to_chunks(text):\n",
    "    chunks = [[]]\n",
    "    chunk_total_words = 0\n",
    "\n",
    "    sentences = nlp(text)\n",
    "\n",
    "    for sentence in sentences.sents:\n",
    "        chunk_total_words += len(sentence.text.split(\" \"))\n",
    "\n",
    "        if chunk_total_words > 500:\n",
    "            chunks.append([])\n",
    "            chunk_total_words = len(sentence.text.split(\" \"))\n",
    "\n",
    "        chunks[len(chunks)-1].append(sentence.text)\n",
    "\n",
    "    return chunks\n",
    "\n",
    "def summarize_text(text):\n",
    "    #prompt = f\"Summarize the following text in 3 sentences:\\n{text}\"\n",
    "    prompt = (f\"summarize this text: {text}\")\n",
    "\n",
    "    response = openai.Completion.create(\n",
    "      engine=\"text-davinci-003\", \n",
    "      prompt=prompt,\n",
    "      temperature=0.5, \n",
    "      max_tokens=1049, \n",
    "      top_p=1, \n",
    "      frequency_penalty=0,\n",
    "      presence_penalty=1\n",
    "    )\n",
    "\n",
    "    return response[\"choices\"][0][\"text\"]\n",
    "\n",
    "\n",
    "with open(fname) as f:\n",
    "    contents = f.readlines()\n",
    "print(contents[0])\n",
    "\n",
    "text = contents[0] #result[\"text\"]\n",
    "\n",
    "chunks = text_to_chunks(text)\n",
    "\n",
    "chunk_summaries = []\n",
    "\n",
    "for idx, chunk in enumerate(chunks):\n",
    "    chunk_summary = summarize_text(\" \".join(chunk))\n",
    "    print(\"Summary of chunk:\", idx+1)\n",
    "    chunk_summaries.append(chunk_summary)\n",
    "\n",
    "summary = \" \".join(chunk_summaries)\n",
    "print(\"Append summaries\")\n",
    "\n",
    "# Print the summary\n",
    "print(\"Summary : \", summary)\n"
   ]
  },
  {
   "cell_type": "code",
   "execution_count": null,
   "id": "988edace-b466-4b0b-bdfc-ac7b2598a9e6",
   "metadata": {},
   "outputs": [],
   "source": []
  }
 ],
 "metadata": {
  "kernelspec": {
   "display_name": "Python 3 (ipykernel)",
   "language": "python",
   "name": "python3"
  },
  "language_info": {
   "codemirror_mode": {
    "name": "ipython",
    "version": 3
   },
   "file_extension": ".py",
   "mimetype": "text/x-python",
   "name": "python",
   "nbconvert_exporter": "python",
   "pygments_lexer": "ipython3",
   "version": "3.8.13"
  }
 },
 "nbformat": 4,
 "nbformat_minor": 5
}
